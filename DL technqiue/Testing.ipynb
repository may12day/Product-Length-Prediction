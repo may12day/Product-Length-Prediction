{
 "cells": [
  {
   "cell_type": "code",
   "execution_count": null,
   "id": "vhL5VrrFYDH_",
   "metadata": {
    "colab": {
     "base_uri": "https://localhost:8080/"
    },
    "id": "vhL5VrrFYDH_",
    "outputId": "a9b60f9d-c6e8-457c-86ec-6a88966bd3a0"
   },
   "outputs": [
    {
     "name": "stdout",
     "output_type": "stream",
     "text": [
      "--2023-04-22 19:13:07--  https://s3-ap-southeast-1.amazonaws.com/he-public-data/datasetb2d9982.zip\n",
      "Resolving s3-ap-southeast-1.amazonaws.com (s3-ap-southeast-1.amazonaws.com)... 52.219.164.168\n",
      "Connecting to s3-ap-southeast-1.amazonaws.com (s3-ap-southeast-1.amazonaws.com)|52.219.164.168|:443... connected.\n",
      "HTTP request sent, awaiting response... 200 OK\n",
      "Length: 895569552 (854M) [binary/octet-stream]\n",
      "Saving to: ‘datasetb2d9982.zip’\n",
      "\n",
      "datasetb2d9982.zip  100%[===================>] 854.08M  13.1MB/s    in 66s     \n",
      "\n",
      "2023-04-22 19:14:14 (12.9 MB/s) - ‘datasetb2d9982.zip’ saved [895569552/895569552]\n",
      "\n"
     ]
    }
   ],
   "source": [
    "!wget https://s3-ap-southeast-1.amazonaws.com/he-public-data/datasetb2d9982.zip"
   ]
  },
  {
   "cell_type": "code",
   "execution_count": null,
   "id": "HqMFzW7RYDFW",
   "metadata": {
    "colab": {
     "base_uri": "https://localhost:8080/"
    },
    "id": "HqMFzW7RYDFW",
    "outputId": "4d234a9b-d612-4d16-f417-c8c8094de3cf"
   },
   "outputs": [
    {
     "name": "stdout",
     "output_type": "stream",
     "text": [
      "Archive:  /content/datasetb2d9982.zip\n",
      "   creating: data/dataset/\n",
      "  inflating: data/dataset/sample_submission.csv  \n",
      "  inflating: data/dataset/train.csv  \n",
      "  inflating: data/dataset/test.csv   \n"
     ]
    }
   ],
   "source": [
    "!unzip /content/datasetb2d9982.zip -d data"
   ]
  },
  {
   "cell_type": "code",
   "execution_count": null,
   "id": "rdQax_4vYC_J",
   "metadata": {
    "colab": {
     "base_uri": "https://localhost:8080/"
    },
    "id": "rdQax_4vYC_J",
    "outputId": "3e2764c9-81bd-42b2-90e3-200aea8cbf8a"
   },
   "outputs": [
    {
     "name": "stdout",
     "output_type": "stream",
     "text": [
      "Mounted at /content/drive\n"
     ]
    }
   ],
   "source": [
    "from google.colab import drive\n",
    "drive.mount('/content/drive')"
   ]
  },
  {
   "cell_type": "code",
   "execution_count": null,
   "id": "c9bbd926",
   "metadata": {
    "execution": {
     "iopub.execute_input": "2021-07-30T20:05:14.610128Z",
     "iopub.status.busy": "2021-07-30T20:05:14.609614Z",
     "iopub.status.idle": "2021-07-30T20:05:20.974733Z",
     "shell.execute_reply": "2021-07-30T20:05:20.973775Z",
     "shell.execute_reply.started": "2021-07-30T19:53:13.758097Z"
    },
    "id": "c9bbd926",
    "papermill": {
     "duration": 6.400503,
     "end_time": "2021-07-30T20:05:20.974900",
     "exception": false,
     "start_time": "2021-07-30T20:05:14.574397",
     "status": "completed"
    },
    "tags": []
   },
   "outputs": [],
   "source": [
    "import pandas as pd\n",
    "import numpy as np\n",
    "import csv\n",
    "import os\n",
    "import random\n",
    "import torch\n",
    "import torch\n",
    "import torch.nn as nn\n",
    "import torch.optim as optim\n",
    "from torch.utils.data import Dataset, DataLoader\n",
    "from sklearn.model_selection import train_test_split\n",
    "from sklearn.metrics import classification_report\n",
    "import transformers\n",
    "import sklearn.model_selection as model_selection\n",
    "from transformers import BertForSequenceClassification, BertTokenizerFast\n",
    "import time\n",
    "import copy\n",
    "from tqdm.notebook import tqdm"
   ]
  },
  {
   "cell_type": "code",
   "execution_count": null,
   "id": "7cdf2b00",
   "metadata": {
    "execution": {
     "iopub.execute_input": "2021-07-30T20:05:21.022717Z",
     "iopub.status.busy": "2021-07-30T20:05:21.021929Z",
     "iopub.status.idle": "2021-07-30T20:05:21.024627Z",
     "shell.execute_reply": "2021-07-30T20:05:21.024189Z",
     "shell.execute_reply.started": "2021-07-30T19:53:16.589656Z"
    },
    "id": "7cdf2b00",
    "papermill": {
     "duration": 0.028064,
     "end_time": "2021-07-30T20:05:21.024748",
     "exception": false,
     "start_time": "2021-07-30T20:05:20.996684",
     "status": "completed"
    },
    "tags": []
   },
   "outputs": [],
   "source": [
    "def set_seed(seed=42):\n",
    "    os.environ['PYTHONHASHSEED']=str(seed)\n",
    "    random.seed(seed)\n",
    "    np.random.seed(seed)\n",
    "    torch.manual_seed(seed)"
   ]
  },
  {
   "cell_type": "code",
   "execution_count": null,
   "id": "dd078f4f",
   "metadata": {
    "execution": {
     "iopub.execute_input": "2021-07-30T20:05:21.070905Z",
     "iopub.status.busy": "2021-07-30T20:05:21.070283Z",
     "iopub.status.idle": "2021-07-30T20:05:21.075979Z",
     "shell.execute_reply": "2021-07-30T20:05:21.075539Z",
     "shell.execute_reply.started": "2021-07-30T19:53:16.596594Z"
    },
    "id": "dd078f4f",
    "papermill": {
     "duration": 0.030146,
     "end_time": "2021-07-30T20:05:21.076085",
     "exception": false,
     "start_time": "2021-07-30T20:05:21.045939",
     "status": "completed"
    },
    "tags": []
   },
   "outputs": [],
   "source": [
    "set_seed()"
   ]
  },
  {
   "cell_type": "code",
   "execution_count": null,
   "id": "e66bc2db",
   "metadata": {
    "execution": {
     "iopub.execute_input": "2021-07-30T20:05:21.122986Z",
     "iopub.status.busy": "2021-07-30T20:05:21.122425Z",
     "iopub.status.idle": "2021-07-30T20:05:24.207988Z",
     "shell.execute_reply": "2021-07-30T20:05:24.207478Z",
     "shell.execute_reply.started": "2021-07-30T19:53:16.608603Z"
    },
    "id": "e66bc2db",
    "papermill": {
     "duration": 3.110318,
     "end_time": "2021-07-30T20:05:24.208125",
     "exception": false,
     "start_time": "2021-07-30T20:05:21.097807",
     "status": "completed"
    },
    "tags": []
   },
   "outputs": [],
   "source": [
    "df=pd.read_csv(\"/content/data/dataset/test.csv\")"
   ]
  },
  {
   "cell_type": "code",
   "execution_count": null,
   "id": "412f3da2",
   "metadata": {
    "execution": {
     "iopub.execute_input": "2021-07-30T20:05:26.482129Z",
     "iopub.status.busy": "2021-07-30T20:05:26.481207Z",
     "iopub.status.idle": "2021-07-30T20:05:26.483506Z",
     "shell.execute_reply": "2021-07-30T20:05:26.482886Z",
     "shell.execute_reply.started": "2021-07-30T19:53:20.270619Z"
    },
    "id": "412f3da2",
    "papermill": {
     "duration": 0.045845,
     "end_time": "2021-07-30T20:05:26.483650",
     "exception": false,
     "start_time": "2021-07-30T20:05:26.437805",
     "status": "completed"
    },
    "tags": []
   },
   "outputs": [],
   "source": [
    "temp=df"
   ]
  },
  {
   "cell_type": "code",
   "execution_count": null,
   "id": "3e5c4414",
   "metadata": {
    "execution": {
     "iopub.execute_input": "2021-07-30T20:05:26.567531Z",
     "iopub.status.busy": "2021-07-30T20:05:26.566764Z",
     "iopub.status.idle": "2021-07-30T20:05:26.641300Z",
     "shell.execute_reply": "2021-07-30T20:05:26.642510Z",
     "shell.execute_reply.started": "2021-07-30T19:53:20.279797Z"
    },
    "id": "3e5c4414",
    "papermill": {
     "duration": 0.122739,
     "end_time": "2021-07-30T20:05:26.642711",
     "exception": false,
     "start_time": "2021-07-30T20:05:26.519972",
     "status": "completed"
    },
    "tags": []
   },
   "outputs": [],
   "source": [
    "temp=temp.fillna(\" \")"
   ]
  },
  {
   "cell_type": "code",
   "execution_count": null,
   "id": "f4e9b365",
   "metadata": {
    "colab": {
     "base_uri": "https://localhost:8080/",
     "height": 206
    },
    "execution": {
     "iopub.execute_input": "2021-07-30T20:05:26.727494Z",
     "iopub.status.busy": "2021-07-30T20:05:26.726684Z",
     "iopub.status.idle": "2021-07-30T20:05:26.747332Z",
     "shell.execute_reply": "2021-07-30T20:05:26.748263Z",
     "shell.execute_reply.started": "2021-07-30T19:53:20.348761Z"
    },
    "id": "f4e9b365",
    "outputId": "43a4fb24-4200-42a1-d14f-dfe74a98ed1c",
    "papermill": {
     "duration": 0.068755,
     "end_time": "2021-07-30T20:05:26.748436",
     "exception": false,
     "start_time": "2021-07-30T20:05:26.679681",
     "status": "completed"
    },
    "tags": []
   },
   "outputs": [
    {
     "data": {
      "text/html": [
       "\n",
       "  <div id=\"df-871b81c3-4bc0-4b10-aebb-c5b6a53dd5e6\">\n",
       "    <div class=\"colab-df-container\">\n",
       "      <div>\n",
       "<style scoped>\n",
       "    .dataframe tbody tr th:only-of-type {\n",
       "        vertical-align: middle;\n",
       "    }\n",
       "\n",
       "    .dataframe tbody tr th {\n",
       "        vertical-align: top;\n",
       "    }\n",
       "\n",
       "    .dataframe thead th {\n",
       "        text-align: right;\n",
       "    }\n",
       "</style>\n",
       "<table border=\"1\" class=\"dataframe\">\n",
       "  <thead>\n",
       "    <tr style=\"text-align: right;\">\n",
       "      <th></th>\n",
       "      <th>PRODUCT_ID</th>\n",
       "      <th>TITLE</th>\n",
       "      <th>BULLET_POINTS</th>\n",
       "      <th>DESCRIPTION</th>\n",
       "      <th>PRODUCT_TYPE_ID</th>\n",
       "    </tr>\n",
       "  </thead>\n",
       "  <tbody>\n",
       "    <tr>\n",
       "      <th>0</th>\n",
       "      <td>604373</td>\n",
       "      <td>Manuel d'Héliogravure Et de Photogravure En Re...</td>\n",
       "      <td></td>\n",
       "      <td></td>\n",
       "      <td>6142</td>\n",
       "    </tr>\n",
       "    <tr>\n",
       "      <th>1</th>\n",
       "      <td>1729783</td>\n",
       "      <td>DCGARING Microfiber Throw Blanket Warm Fuzzy P...</td>\n",
       "      <td>[QUALITY GUARANTEED: Luxury cozy plush polyest...</td>\n",
       "      <td>&lt;b&gt;DCGARING Throw Blanket&lt;/b&gt;&lt;br&gt;&lt;br&gt; &lt;b&gt;Size ...</td>\n",
       "      <td>1622</td>\n",
       "    </tr>\n",
       "    <tr>\n",
       "      <th>2</th>\n",
       "      <td>1871949</td>\n",
       "      <td>I-Match Auto Parts Front License Plate Bracket...</td>\n",
       "      <td>[Front License Plate Bracket Made Of Plastic,D...</td>\n",
       "      <td>Replacement for The Following Vehicles:2020 LE...</td>\n",
       "      <td>7540</td>\n",
       "    </tr>\n",
       "    <tr>\n",
       "      <th>3</th>\n",
       "      <td>1107571</td>\n",
       "      <td>PinMart Gold Plated Excellence in Service 1 Ye...</td>\n",
       "      <td>[Available as a single item or bulk packed. Se...</td>\n",
       "      <td>Our Excellence in Service Lapel Pins feature a...</td>\n",
       "      <td>12442</td>\n",
       "    </tr>\n",
       "    <tr>\n",
       "      <th>4</th>\n",
       "      <td>624253</td>\n",
       "      <td>Visual Mathematics, Illustrated by the TI-92 a...</td>\n",
       "      <td></td>\n",
       "      <td></td>\n",
       "      <td>6318</td>\n",
       "    </tr>\n",
       "  </tbody>\n",
       "</table>\n",
       "</div>\n",
       "      <button class=\"colab-df-convert\" onclick=\"convertToInteractive('df-871b81c3-4bc0-4b10-aebb-c5b6a53dd5e6')\"\n",
       "              title=\"Convert this dataframe to an interactive table.\"\n",
       "              style=\"display:none;\">\n",
       "        \n",
       "  <svg xmlns=\"http://www.w3.org/2000/svg\" height=\"24px\"viewBox=\"0 0 24 24\"\n",
       "       width=\"24px\">\n",
       "    <path d=\"M0 0h24v24H0V0z\" fill=\"none\"/>\n",
       "    <path d=\"M18.56 5.44l.94 2.06.94-2.06 2.06-.94-2.06-.94-.94-2.06-.94 2.06-2.06.94zm-11 1L8.5 8.5l.94-2.06 2.06-.94-2.06-.94L8.5 2.5l-.94 2.06-2.06.94zm10 10l.94 2.06.94-2.06 2.06-.94-2.06-.94-.94-2.06-.94 2.06-2.06.94z\"/><path d=\"M17.41 7.96l-1.37-1.37c-.4-.4-.92-.59-1.43-.59-.52 0-1.04.2-1.43.59L10.3 9.45l-7.72 7.72c-.78.78-.78 2.05 0 2.83L4 21.41c.39.39.9.59 1.41.59.51 0 1.02-.2 1.41-.59l7.78-7.78 2.81-2.81c.8-.78.8-2.07 0-2.86zM5.41 20L4 18.59l7.72-7.72 1.47 1.35L5.41 20z\"/>\n",
       "  </svg>\n",
       "      </button>\n",
       "      \n",
       "  <style>\n",
       "    .colab-df-container {\n",
       "      display:flex;\n",
       "      flex-wrap:wrap;\n",
       "      gap: 12px;\n",
       "    }\n",
       "\n",
       "    .colab-df-convert {\n",
       "      background-color: #E8F0FE;\n",
       "      border: none;\n",
       "      border-radius: 50%;\n",
       "      cursor: pointer;\n",
       "      display: none;\n",
       "      fill: #1967D2;\n",
       "      height: 32px;\n",
       "      padding: 0 0 0 0;\n",
       "      width: 32px;\n",
       "    }\n",
       "\n",
       "    .colab-df-convert:hover {\n",
       "      background-color: #E2EBFA;\n",
       "      box-shadow: 0px 1px 2px rgba(60, 64, 67, 0.3), 0px 1px 3px 1px rgba(60, 64, 67, 0.15);\n",
       "      fill: #174EA6;\n",
       "    }\n",
       "\n",
       "    [theme=dark] .colab-df-convert {\n",
       "      background-color: #3B4455;\n",
       "      fill: #D2E3FC;\n",
       "    }\n",
       "\n",
       "    [theme=dark] .colab-df-convert:hover {\n",
       "      background-color: #434B5C;\n",
       "      box-shadow: 0px 1px 3px 1px rgba(0, 0, 0, 0.15);\n",
       "      filter: drop-shadow(0px 1px 2px rgba(0, 0, 0, 0.3));\n",
       "      fill: #FFFFFF;\n",
       "    }\n",
       "  </style>\n",
       "\n",
       "      <script>\n",
       "        const buttonEl =\n",
       "          document.querySelector('#df-871b81c3-4bc0-4b10-aebb-c5b6a53dd5e6 button.colab-df-convert');\n",
       "        buttonEl.style.display =\n",
       "          google.colab.kernel.accessAllowed ? 'block' : 'none';\n",
       "\n",
       "        async function convertToInteractive(key) {\n",
       "          const element = document.querySelector('#df-871b81c3-4bc0-4b10-aebb-c5b6a53dd5e6');\n",
       "          const dataTable =\n",
       "            await google.colab.kernel.invokeFunction('convertToInteractive',\n",
       "                                                     [key], {});\n",
       "          if (!dataTable) return;\n",
       "\n",
       "          const docLinkHtml = 'Like what you see? Visit the ' +\n",
       "            '<a target=\"_blank\" href=https://colab.research.google.com/notebooks/data_table.ipynb>data table notebook</a>'\n",
       "            + ' to learn more about interactive tables.';\n",
       "          element.innerHTML = '';\n",
       "          dataTable['output_type'] = 'display_data';\n",
       "          await google.colab.output.renderOutput(dataTable, element);\n",
       "          const docLink = document.createElement('div');\n",
       "          docLink.innerHTML = docLinkHtml;\n",
       "          element.appendChild(docLink);\n",
       "        }\n",
       "      </script>\n",
       "    </div>\n",
       "  </div>\n",
       "  "
      ],
      "text/plain": [
       "   PRODUCT_ID                                              TITLE  \\\n",
       "0      604373  Manuel d'Héliogravure Et de Photogravure En Re...   \n",
       "1     1729783  DCGARING Microfiber Throw Blanket Warm Fuzzy P...   \n",
       "2     1871949  I-Match Auto Parts Front License Plate Bracket...   \n",
       "3     1107571  PinMart Gold Plated Excellence in Service 1 Ye...   \n",
       "4      624253  Visual Mathematics, Illustrated by the TI-92 a...   \n",
       "\n",
       "                                       BULLET_POINTS  \\\n",
       "0                                                      \n",
       "1  [QUALITY GUARANTEED: Luxury cozy plush polyest...   \n",
       "2  [Front License Plate Bracket Made Of Plastic,D...   \n",
       "3  [Available as a single item or bulk packed. Se...   \n",
       "4                                                      \n",
       "\n",
       "                                         DESCRIPTION  PRODUCT_TYPE_ID  \n",
       "0                                                                6142  \n",
       "1  <b>DCGARING Throw Blanket</b><br><br> <b>Size ...             1622  \n",
       "2  Replacement for The Following Vehicles:2020 LE...             7540  \n",
       "3  Our Excellence in Service Lapel Pins feature a...            12442  \n",
       "4                                                                6318  "
      ]
     },
     "execution_count": 7,
     "metadata": {},
     "output_type": "execute_result"
    }
   ],
   "source": [
    "temp.head()"
   ]
  },
  {
   "cell_type": "markdown",
   "id": "a6eedea4-edf9-4ede-9c71-a20b2b05540d",
   "metadata": {},
   "source": [
    "## Preprocess the data by processing rows, concatenates certain elements from each row, removes duplicates, and constructs a list of sentences"
   ]
  },
  {
   "cell_type": "code",
   "execution_count": null,
   "id": "05f1a4eb",
   "metadata": {
    "colab": {
     "base_uri": "https://localhost:8080/"
    },
    "execution": {
     "iopub.execute_input": "2021-07-30T20:05:26.811888Z",
     "iopub.status.busy": "2021-07-30T20:05:26.811089Z",
     "iopub.status.idle": "2021-07-30T20:05:39.810436Z",
     "shell.execute_reply": "2021-07-30T20:05:39.809986Z",
     "shell.execute_reply.started": "2021-07-30T19:53:20.367506Z"
    },
    "id": "05f1a4eb",
    "outputId": "aedaa167-33db-4bb4-b3a6-d89a876dbeef",
    "papermill": {
     "duration": 13.025832,
     "end_time": "2021-07-30T20:05:39.810563",
     "exception": false,
     "start_time": "2021-07-30T20:05:26.784731",
     "status": "completed"
    },
    "tags": []
   },
   "outputs": [
    {
     "name": "stdout",
     "output_type": "stream",
     "text": [
      "0 Done\n",
      "100000 Done\n",
      "200000 Done\n",
      "300000 Done\n",
      "400000 Done\n",
      "500000 Done\n",
      "600000 Done\n",
      "700000 Done\n"
     ]
    }
   ],
   "source": [
    "wholeSentence=[]\n",
    "for idx,row in temp.iterrows(): \n",
    "    if(idx%100000==0):\n",
    "        print(f\"{idx} Done\")\n",
    "    wholeSentence.append(\" \".join(list(set((row[1]+row[2]+\" \".join(row[3].split(\",\"))[:-1][1:]).split()))))"
   ]
  },
  {
   "cell_type": "code",
   "execution_count": null,
   "id": "bfb499a4",
   "metadata": {
    "execution": {
     "iopub.execute_input": "2021-07-30T20:05:39.873207Z",
     "iopub.status.busy": "2021-07-30T20:05:39.859486Z",
     "iopub.status.idle": "2021-07-30T20:05:39.878483Z",
     "shell.execute_reply": "2021-07-30T20:05:39.878064Z",
     "shell.execute_reply.started": "2021-07-30T19:53:34.454485Z"
    },
    "id": "bfb499a4",
    "papermill": {
     "duration": 0.044712,
     "end_time": "2021-07-30T20:05:39.878587",
     "exception": false,
     "start_time": "2021-07-30T20:05:39.833875",
     "status": "completed"
    },
    "tags": []
   },
   "outputs": [],
   "source": [
    "temp[\"WHOLE SENTENCE\"]=wholeSentence"
   ]
  },
  {
   "cell_type": "code",
   "execution_count": null,
   "id": "efa793b9",
   "metadata": {
    "execution": {
     "iopub.execute_input": "2021-07-30T20:05:39.927430Z",
     "iopub.status.busy": "2021-07-30T20:05:39.926577Z",
     "iopub.status.idle": "2021-07-30T20:05:39.944268Z",
     "shell.execute_reply": "2021-07-30T20:05:39.943853Z",
     "shell.execute_reply.started": "2021-07-30T19:53:34.475601Z"
    },
    "id": "efa793b9",
    "papermill": {
     "duration": 0.043369,
     "end_time": "2021-07-30T20:05:39.944378",
     "exception": false,
     "start_time": "2021-07-30T20:05:39.901009",
     "status": "completed"
    },
    "tags": []
   },
   "outputs": [],
   "source": [
    "temp=temp.reset_index(drop=True)"
   ]
  },
  {
   "cell_type": "code",
   "execution_count": null,
   "id": "c03f3ebc",
   "metadata": {
    "execution": {
     "iopub.execute_input": "2021-07-30T20:05:40.041320Z",
     "iopub.status.busy": "2021-07-30T20:05:40.040459Z",
     "iopub.status.idle": "2021-07-30T20:05:40.042988Z",
     "shell.execute_reply": "2021-07-30T20:05:40.042548Z",
     "shell.execute_reply.started": "2021-07-30T19:53:34.500185Z"
    },
    "id": "c03f3ebc",
    "papermill": {
     "duration": 0.075919,
     "end_time": "2021-07-30T20:05:40.043102",
     "exception": false,
     "start_time": "2021-07-30T20:05:39.967183",
     "status": "completed"
    },
    "tags": []
   },
   "outputs": [],
   "source": [
    "dev=torch.device('cuda') if torch.cuda.is_available() else torch.device('cpu')"
   ]
  },
  {
   "cell_type": "code",
   "execution_count": null,
   "id": "7359273f",
   "metadata": {
    "execution": {
     "iopub.execute_input": "2021-07-30T20:05:40.092864Z",
     "iopub.status.busy": "2021-07-30T20:05:40.092111Z",
     "iopub.status.idle": "2021-07-30T20:05:50.292331Z",
     "shell.execute_reply": "2021-07-30T20:05:50.292890Z",
     "shell.execute_reply.started": "2021-07-30T19:53:34.530114Z"
    },
    "id": "7359273f",
    "papermill": {
     "duration": 10.227174,
     "end_time": "2021-07-30T20:05:50.293070",
     "exception": false,
     "start_time": "2021-07-30T20:05:40.065896",
     "status": "completed"
    },
    "tags": []
   },
   "outputs": [],
   "source": [
    "tokenizer = BertTokenizerFast.from_pretrained('bert-base-uncased')"
   ]
  },
  {
   "cell_type": "code",
   "execution_count": null,
   "id": "b212f7f5",
   "metadata": {
    "execution": {
     "iopub.execute_input": "2021-07-30T20:05:50.349782Z",
     "iopub.status.busy": "2021-07-30T20:05:50.349218Z",
     "iopub.status.idle": "2021-07-30T20:05:50.353198Z",
     "shell.execute_reply": "2021-07-30T20:05:50.352772Z",
     "shell.execute_reply.started": "2021-07-30T19:53:37.342048Z"
    },
    "id": "b212f7f5",
    "papermill": {
     "duration": 0.031407,
     "end_time": "2021-07-30T20:05:50.353312",
     "exception": false,
     "start_time": "2021-07-30T20:05:50.321905",
     "status": "completed"
    },
    "tags": []
   },
   "outputs": [],
   "source": [
    "max_seq_len = 64"
   ]
  },
  {
   "cell_type": "code",
   "execution_count": null,
   "id": "0f44f31b",
   "metadata": {
    "execution": {
     "iopub.execute_input": "2021-07-30T20:05:50.410333Z",
     "iopub.status.busy": "2021-07-30T20:05:50.409568Z",
     "iopub.status.idle": "2021-07-30T20:05:50.413218Z",
     "shell.execute_reply": "2021-07-30T20:05:50.412747Z",
     "shell.execute_reply.started": "2021-07-30T19:53:37.348762Z"
    },
    "id": "0f44f31b",
    "papermill": {
     "duration": 0.036548,
     "end_time": "2021-07-30T20:05:50.413335",
     "exception": false,
     "start_time": "2021-07-30T20:05:50.376787",
     "status": "completed"
    },
    "tags": []
   },
   "outputs": [],
   "source": [
    "class amazonDatasetTest(Dataset, tokenizer):\n",
    "  def __init__(self,text,tokenizer):\n",
    "    self.sentence=text\n",
    "    self.tokenizer=tokenizer\n",
    "\n",
    "  def __len__(self):\n",
    "    return len(self.sentence)\n",
    "  \n",
    "  def __getitem__(self,idx):\n",
    "    inp_tokens=self.tokenizer.encode_plus(self.sentence[idx], \n",
    "                                          padding=\"max_length\", \n",
    "                                          add_special_tokens=True,\n",
    "                                          max_length=max_seq_len, \n",
    "                                          truncation=True)\n",
    "    inp_id=inp_tokens.input_ids\n",
    "    inp_mask=inp_tokens.attention_mask\n",
    "\n",
    "    return {\n",
    "#         \"text\":self.sentence,\n",
    "        \"input_ids\":torch.tensor(inp_id, dtype=torch.long),\n",
    "        \"input_attention_mask\":torch.tensor(inp_mask, dtype=torch.long)\n",
    "    }"
   ]
  },
  {
   "cell_type": "code",
   "execution_count": null,
   "id": "cf9806c4",
   "metadata": {
    "execution": {
     "iopub.execute_input": "2021-07-30T20:05:50.467807Z",
     "iopub.status.busy": "2021-07-30T20:05:50.467237Z",
     "iopub.status.idle": "2021-07-30T20:05:50.471105Z",
     "shell.execute_reply": "2021-07-30T20:05:50.470695Z",
     "shell.execute_reply.started": "2021-07-30T19:53:37.362436Z"
    },
    "id": "cf9806c4",
    "papermill": {
     "duration": 0.032019,
     "end_time": "2021-07-30T20:05:50.471210",
     "exception": false,
     "start_time": "2021-07-30T20:05:50.439191",
     "status": "completed"
    },
    "tags": []
   },
   "outputs": [],
   "source": [
    "test_dataset = amazonDatasetTest(temp[\"WHOLE SENTENCE\"], tokenizer)"
   ]
  },
  {
   "cell_type": "code",
   "execution_count": null,
   "id": "a438d79b",
   "metadata": {
    "colab": {
     "base_uri": "https://localhost:8080/"
    },
    "execution": {
     "iopub.execute_input": "2021-07-30T20:05:50.527466Z",
     "iopub.status.busy": "2021-07-30T20:05:50.526861Z",
     "iopub.status.idle": "2021-07-30T20:05:50.532938Z",
     "shell.execute_reply": "2021-07-30T20:05:50.532458Z",
     "shell.execute_reply.started": "2021-07-30T19:53:37.372223Z"
    },
    "id": "a438d79b",
    "outputId": "96e69e5b-ee8f-4310-8bb6-4b20a0c9e988",
    "papermill": {
     "duration": 0.037789,
     "end_time": "2021-07-30T20:05:50.533047",
     "exception": false,
     "start_time": "2021-07-30T20:05:50.495258",
     "status": "completed"
    },
    "tags": []
   },
   "outputs": [
    {
     "data": {
      "text/plain": [
       "734736"
      ]
     },
     "execution_count": 23,
     "metadata": {},
     "output_type": "execute_result"
    }
   ],
   "source": [
    "len(test_dataset)"
   ]
  },
  {
   "cell_type": "code",
   "execution_count": null,
   "id": "a5ab5e33",
   "metadata": {
    "execution": {
     "iopub.execute_input": "2021-07-30T20:05:50.586453Z",
     "iopub.status.busy": "2021-07-30T20:05:50.585018Z",
     "iopub.status.idle": "2021-07-30T20:05:50.587337Z",
     "shell.execute_reply": "2021-07-30T20:05:50.587753Z",
     "shell.execute_reply.started": "2021-07-30T19:53:37.384350Z"
    },
    "id": "a5ab5e33",
    "papermill": {
     "duration": 0.03089,
     "end_time": "2021-07-30T20:05:50.587868",
     "exception": false,
     "start_time": "2021-07-30T20:05:50.556978",
     "status": "completed"
    },
    "tags": []
   },
   "outputs": [],
   "source": [
    "test_dataloader=DataLoader(test_dataset,\n",
    "                            batch_size=10,\n",
    "                            shuffle=False,\n",
    "                            num_workers=2)"
   ]
  },
  {
   "cell_type": "code",
   "execution_count": null,
   "id": "ef7c748b",
   "metadata": {
    "colab": {
     "base_uri": "https://localhost:8080/"
    },
    "execution": {
     "iopub.execute_input": "2021-07-30T20:05:50.646930Z",
     "iopub.status.busy": "2021-07-30T20:05:50.646037Z",
     "iopub.status.idle": "2021-07-30T20:07:00.494493Z",
     "shell.execute_reply": "2021-07-30T20:07:00.494055Z",
     "shell.execute_reply.started": "2021-07-30T19:53:37.391964Z"
    },
    "id": "ef7c748b",
    "outputId": "d7ce2faf-93af-458a-8b07-8e642bac6fea",
    "papermill": {
     "duration": 69.880769,
     "end_time": "2021-07-30T20:07:00.494610",
     "exception": false,
     "start_time": "2021-07-30T20:05:50.613841",
     "status": "completed"
    },
    "tags": []
   },
   "outputs": [
    {
     "name": "stderr",
     "output_type": "stream",
     "text": [
      "Some weights of the model checkpoint at bert-base-uncased were not used when initializing BertForSequenceClassification: ['cls.seq_relationship.bias', 'cls.predictions.transform.dense.weight', 'cls.predictions.transform.dense.bias', 'cls.predictions.transform.LayerNorm.bias', 'cls.predictions.transform.LayerNorm.weight', 'cls.predictions.decoder.weight', 'cls.seq_relationship.weight', 'cls.predictions.bias']\n",
      "- This IS expected if you are initializing BertForSequenceClassification from the checkpoint of a model trained on another task or with another architecture (e.g. initializing a BertForSequenceClassification model from a BertForPreTraining model).\n",
      "- This IS NOT expected if you are initializing BertForSequenceClassification from the checkpoint of a model that you expect to be exactly identical (initializing a BertForSequenceClassification model from a BertForSequenceClassification model).\n",
      "Some weights of BertForSequenceClassification were not initialized from the model checkpoint at bert-base-uncased and are newly initialized: ['classifier.weight', 'classifier.bias']\n",
      "You should probably TRAIN this model on a down-stream task to be able to use it for predictions and inference.\n"
     ]
    },
    {
     "name": "stdout",
     "output_type": "stream",
     "text": [
      "BertForSequenceClassification(\n",
      "  (bert): BertModel(\n",
      "    (embeddings): BertEmbeddings(\n",
      "      (word_embeddings): Embedding(30522, 768, padding_idx=0)\n",
      "      (position_embeddings): Embedding(512, 768)\n",
      "      (token_type_embeddings): Embedding(2, 768)\n",
      "      (LayerNorm): LayerNorm((768,), eps=1e-12, elementwise_affine=True)\n",
      "      (dropout): Dropout(p=0.1, inplace=False)\n",
      "    )\n",
      "    (encoder): BertEncoder(\n",
      "      (layer): ModuleList(\n",
      "        (0-11): 12 x BertLayer(\n",
      "          (attention): BertAttention(\n",
      "            (self): BertSelfAttention(\n",
      "              (query): Linear(in_features=768, out_features=768, bias=True)\n",
      "              (key): Linear(in_features=768, out_features=768, bias=True)\n",
      "              (value): Linear(in_features=768, out_features=768, bias=True)\n",
      "              (dropout): Dropout(p=0.1, inplace=False)\n",
      "            )\n",
      "            (output): BertSelfOutput(\n",
      "              (dense): Linear(in_features=768, out_features=768, bias=True)\n",
      "              (LayerNorm): LayerNorm((768,), eps=1e-12, elementwise_affine=True)\n",
      "              (dropout): Dropout(p=0.1, inplace=False)\n",
      "            )\n",
      "          )\n",
      "          (intermediate): BertIntermediate(\n",
      "            (dense): Linear(in_features=768, out_features=3072, bias=True)\n",
      "            (intermediate_act_fn): GELUActivation()\n",
      "          )\n",
      "          (output): BertOutput(\n",
      "            (dense): Linear(in_features=3072, out_features=768, bias=True)\n",
      "            (LayerNorm): LayerNorm((768,), eps=1e-12, elementwise_affine=True)\n",
      "            (dropout): Dropout(p=0.1, inplace=False)\n",
      "          )\n",
      "        )\n",
      "      )\n",
      "    )\n",
      "    (pooler): BertPooler(\n",
      "      (dense): Linear(in_features=768, out_features=768, bias=True)\n",
      "      (activation): Tanh()\n",
      "    )\n",
      "  )\n",
      "  (dropout): Dropout(p=0.1, inplace=False)\n",
      "  (classifier): Linear(in_features=768, out_features=16655, bias=True)\n",
      ")\n"
     ]
    },
    {
     "data": {
      "text/plain": [
       "BertForSequenceClassification(\n",
       "  (bert): BertModel(\n",
       "    (embeddings): BertEmbeddings(\n",
       "      (word_embeddings): Embedding(30522, 768, padding_idx=0)\n",
       "      (position_embeddings): Embedding(512, 768)\n",
       "      (token_type_embeddings): Embedding(2, 768)\n",
       "      (LayerNorm): LayerNorm((768,), eps=1e-12, elementwise_affine=True)\n",
       "      (dropout): Dropout(p=0.1, inplace=False)\n",
       "    )\n",
       "    (encoder): BertEncoder(\n",
       "      (layer): ModuleList(\n",
       "        (0-11): 12 x BertLayer(\n",
       "          (attention): BertAttention(\n",
       "            (self): BertSelfAttention(\n",
       "              (query): Linear(in_features=768, out_features=768, bias=True)\n",
       "              (key): Linear(in_features=768, out_features=768, bias=True)\n",
       "              (value): Linear(in_features=768, out_features=768, bias=True)\n",
       "              (dropout): Dropout(p=0.1, inplace=False)\n",
       "            )\n",
       "            (output): BertSelfOutput(\n",
       "              (dense): Linear(in_features=768, out_features=768, bias=True)\n",
       "              (LayerNorm): LayerNorm((768,), eps=1e-12, elementwise_affine=True)\n",
       "              (dropout): Dropout(p=0.1, inplace=False)\n",
       "            )\n",
       "          )\n",
       "          (intermediate): BertIntermediate(\n",
       "            (dense): Linear(in_features=768, out_features=3072, bias=True)\n",
       "            (intermediate_act_fn): GELUActivation()\n",
       "          )\n",
       "          (output): BertOutput(\n",
       "            (dense): Linear(in_features=3072, out_features=768, bias=True)\n",
       "            (LayerNorm): LayerNorm((768,), eps=1e-12, elementwise_affine=True)\n",
       "            (dropout): Dropout(p=0.1, inplace=False)\n",
       "          )\n",
       "        )\n",
       "      )\n",
       "    )\n",
       "    (pooler): BertPooler(\n",
       "      (dense): Linear(in_features=768, out_features=768, bias=True)\n",
       "      (activation): Tanh()\n",
       "    )\n",
       "  )\n",
       "  (dropout): Dropout(p=0.1, inplace=False)\n",
       "  (classifier): Linear(in_features=768, out_features=16655, bias=True)\n",
       ")"
      ]
     },
     "execution_count": 25,
     "metadata": {},
     "output_type": "execute_result"
    }
   ],
   "source": [
    "model=BertForSequenceClassification.from_pretrained('bert-base-uncased', num_labels=16655)\n",
    "model.resize_token_embeddings(len(tokenizer))\n",
    "model.config.pad_token_id = model.config.eos_token_id\n",
    "model=torch.load(\"/content/drive/MyDrive/amazon ml challenge/Trained_model.pth\")\n",
    "print(model)\n",
    "model.to(dev)"
   ]
  },
  {
   "cell_type": "code",
   "execution_count": null,
   "id": "35b90cb9",
   "metadata": {
    "colab": {
     "base_uri": "https://localhost:8080/",
     "height": 49,
     "referenced_widgets": [
      "6b4068a312994cf7b8d77d89a864d653",
      "926a68e976a940c4bdd43b90e46d5a4c",
      "c940c4507d024491b467b54e5a017381",
      "d71e790304374086ac555d1871a56ed8",
      "14d9f83738854c26acc357fffe48a77b",
      "e8d9b7cd86474d54b5f70fa5ff0b18ad",
      "1d25db5ae2d84b96b0431d19be954221",
      "8284603230be4792919aa4c7f1c1f857",
      "2fe60518936241fbb8c1503db2a43930",
      "73a1c03db1b740faa3abe93f5c72cb79",
      "f7c26c9218a542fea0a75ac16a7eec30"
     ]
    },
    "execution": {
     "iopub.execute_input": "2021-07-30T20:07:00.564096Z",
     "iopub.status.busy": "2021-07-30T20:07:00.563288Z",
     "iopub.status.idle": "2021-07-30T20:12:30.070900Z",
     "shell.execute_reply": "2021-07-30T20:12:30.071335Z",
     "shell.execute_reply.started": "2021-07-30T19:53:43.006176Z"
    },
    "id": "35b90cb9",
    "outputId": "221a7b07-deeb-4d74-b2a0-b377104d375f",
    "papermill": {
     "duration": 329.547765,
     "end_time": "2021-07-30T20:12:30.071491",
     "exception": false,
     "start_time": "2021-07-30T20:07:00.523726",
     "status": "completed"
    },
    "tags": []
   },
   "outputs": [
    {
     "data": {
      "application/vnd.jupyter.widget-view+json": {
       "model_id": "6b4068a312994cf7b8d77d89a864d653",
       "version_major": 2,
       "version_minor": 0
      },
      "text/plain": [
       "  0%|          | 0/73474 [00:00<?, ?it/s]"
      ]
     },
     "metadata": {},
     "output_type": "display_data"
    }
   ],
   "source": [
    "predictions=[]\n",
    "for data in tqdm(test_dataloader):\n",
    "    input_ids = data[\"input_ids\"].to(dev, dtype=torch.long)\n",
    "    mask = data[\"input_attention_mask\"].to(dev, dtype=torch.long)\n",
    "    with torch.set_grad_enabled(False):\n",
    "        outputs=model(\n",
    "                    input_ids =input_ids,\n",
    "                    attention_mask=mask\n",
    "                )\n",
    "        logits=outputs.logits\n",
    "        \n",
    "        _,preds=torch.max(logits,1)\n",
    "        predictions+=list(preds.cpu().numpy())"
   ]
  },
  {
   "cell_type": "code",
   "execution_count": null,
   "id": "p6GLVctXemp1",
   "metadata": {
    "id": "p6GLVctXemp1"
   },
   "outputs": [],
   "source": []
  },
  {
   "cell_type": "code",
   "execution_count": null,
   "id": "ac702f44",
   "metadata": {
    "execution": {
     "iopub.execute_input": "2021-07-30T20:12:30.134512Z",
     "iopub.status.busy": "2021-07-30T20:12:30.133343Z",
     "iopub.status.idle": "2021-07-30T20:12:30.135639Z",
     "shell.execute_reply": "2021-07-30T20:12:30.136059Z",
     "shell.execute_reply.started": "2021-07-30T19:59:15.771443Z"
    },
    "id": "ac702f44",
    "papermill": {
     "duration": 0.037812,
     "end_time": "2021-07-30T20:12:30.136181",
     "exception": false,
     "start_time": "2021-07-30T20:12:30.098369",
     "status": "completed"
    },
    "tags": []
   },
   "outputs": [],
   "source": [
    "submission_df=pd.DataFrame(columns=['PRODUCT_ID','PRODUCT_LENGTH'])"
   ]
  },
  {
   "cell_type": "code",
   "execution_count": null,
   "id": "7b48f34f",
   "metadata": {
    "execution": {
     "iopub.execute_input": "2021-07-30T20:12:30.192369Z",
     "iopub.status.busy": "2021-07-30T20:12:30.191606Z",
     "iopub.status.idle": "2021-07-30T20:12:30.260133Z",
     "shell.execute_reply": "2021-07-30T20:12:30.260555Z",
     "shell.execute_reply.started": "2021-07-30T19:59:15.784653Z"
    },
    "id": "7b48f34f",
    "papermill": {
     "duration": 0.098691,
     "end_time": "2021-07-30T20:12:30.260696",
     "exception": false,
     "start_time": "2021-07-30T20:12:30.162005",
     "status": "completed"
    },
    "tags": []
   },
   "outputs": [],
   "source": [
    "submission_df['PRODUCT_ID']=df['PRODUCT_ID']\n",
    "submission_df['PRODUCT_LENGTH']=predictions"
   ]
  },
  {
   "cell_type": "code",
   "execution_count": null,
   "id": "69283ca8",
   "metadata": {
    "execution": {
     "iopub.execute_input": "2021-07-30T20:12:30.323380Z",
     "iopub.status.busy": "2021-07-30T20:12:30.322883Z",
     "iopub.status.idle": "2021-07-30T20:12:30.328262Z",
     "shell.execute_reply": "2021-07-30T20:12:30.328626Z",
     "shell.execute_reply.started": "2021-07-30T19:59:15.866899Z"
    },
    "id": "69283ca8",
    "papermill": {
     "duration": 0.041687,
     "end_time": "2021-07-30T20:12:30.328766",
     "exception": false,
     "start_time": "2021-07-30T20:12:30.287079",
     "status": "completed"
    },
    "tags": []
   },
   "outputs": [],
   "source": [
    "submission_df['PRODUCT_LENGTH']=submission_df['PRODUCT_LENGTH'].map(id2lbl)"
   ]
  },
  {
   "cell_type": "code",
   "execution_count": null,
   "id": "6c346b79",
   "metadata": {
    "colab": {
     "base_uri": "https://localhost:8080/",
     "height": 206
    },
    "execution": {
     "iopub.execute_input": "2021-07-30T20:12:30.388967Z",
     "iopub.status.busy": "2021-07-30T20:12:30.388419Z",
     "iopub.status.idle": "2021-07-30T20:12:30.391457Z",
     "shell.execute_reply": "2021-07-30T20:12:30.391859Z",
     "shell.execute_reply.started": "2021-07-30T19:59:15.886090Z"
    },
    "id": "6c346b79",
    "outputId": "ec0d6242-433c-403b-f3b8-d3c6b8cdabfe",
    "papermill": {
     "duration": 0.037373,
     "end_time": "2021-07-30T20:12:30.391975",
     "exception": false,
     "start_time": "2021-07-30T20:12:30.354602",
     "status": "completed"
    },
    "tags": []
   },
   "outputs": [
    {
     "data": {
      "text/html": [
       "\n",
       "  <div id=\"df-3c2a7208-0740-48af-995b-330b4dab853b\">\n",
       "    <div class=\"colab-df-container\">\n",
       "      <div>\n",
       "<style scoped>\n",
       "    .dataframe tbody tr th:only-of-type {\n",
       "        vertical-align: middle;\n",
       "    }\n",
       "\n",
       "    .dataframe tbody tr th {\n",
       "        vertical-align: top;\n",
       "    }\n",
       "\n",
       "    .dataframe thead th {\n",
       "        text-align: right;\n",
       "    }\n",
       "</style>\n",
       "<table border=\"1\" class=\"dataframe\">\n",
       "  <thead>\n",
       "    <tr style=\"text-align: right;\">\n",
       "      <th></th>\n",
       "      <th>PRODUCT_ID</th>\n",
       "      <th>PRODUCT_LENGTH</th>\n",
       "    </tr>\n",
       "  </thead>\n",
       "  <tbody>\n",
       "    <tr>\n",
       "      <th>0</th>\n",
       "      <td>604373</td>\n",
       "      <td>13</td>\n",
       "    </tr>\n",
       "    <tr>\n",
       "      <th>1</th>\n",
       "      <td>1729783</td>\n",
       "      <td>10</td>\n",
       "    </tr>\n",
       "    <tr>\n",
       "      <th>2</th>\n",
       "      <td>1871949</td>\n",
       "      <td>10</td>\n",
       "    </tr>\n",
       "    <tr>\n",
       "      <th>3</th>\n",
       "      <td>1107571</td>\n",
       "      <td>10</td>\n",
       "    </tr>\n",
       "    <tr>\n",
       "      <th>4</th>\n",
       "      <td>624253</td>\n",
       "      <td>13</td>\n",
       "    </tr>\n",
       "  </tbody>\n",
       "</table>\n",
       "</div>\n",
       "      <button class=\"colab-df-convert\" onclick=\"convertToInteractive('df-3c2a7208-0740-48af-995b-330b4dab853b')\"\n",
       "              title=\"Convert this dataframe to an interactive table.\"\n",
       "              style=\"display:none;\">\n",
       "        \n",
       "  <svg xmlns=\"http://www.w3.org/2000/svg\" height=\"24px\"viewBox=\"0 0 24 24\"\n",
       "       width=\"24px\">\n",
       "    <path d=\"M0 0h24v24H0V0z\" fill=\"none\"/>\n",
       "    <path d=\"M18.56 5.44l.94 2.06.94-2.06 2.06-.94-2.06-.94-.94-2.06-.94 2.06-2.06.94zm-11 1L8.5 8.5l.94-2.06 2.06-.94-2.06-.94L8.5 2.5l-.94 2.06-2.06.94zm10 10l.94 2.06.94-2.06 2.06-.94-2.06-.94-.94-2.06-.94 2.06-2.06.94z\"/><path d=\"M17.41 7.96l-1.37-1.37c-.4-.4-.92-.59-1.43-.59-.52 0-1.04.2-1.43.59L10.3 9.45l-7.72 7.72c-.78.78-.78 2.05 0 2.83L4 21.41c.39.39.9.59 1.41.59.51 0 1.02-.2 1.41-.59l7.78-7.78 2.81-2.81c.8-.78.8-2.07 0-2.86zM5.41 20L4 18.59l7.72-7.72 1.47 1.35L5.41 20z\"/>\n",
       "  </svg>\n",
       "      </button>\n",
       "      \n",
       "  <style>\n",
       "    .colab-df-container {\n",
       "      display:flex;\n",
       "      flex-wrap:wrap;\n",
       "      gap: 12px;\n",
       "    }\n",
       "\n",
       "    .colab-df-convert {\n",
       "      background-color: #E8F0FE;\n",
       "      border: none;\n",
       "      border-radius: 50%;\n",
       "      cursor: pointer;\n",
       "      display: none;\n",
       "      fill: #1967D2;\n",
       "      height: 32px;\n",
       "      padding: 0 0 0 0;\n",
       "      width: 32px;\n",
       "    }\n",
       "\n",
       "    .colab-df-convert:hover {\n",
       "      background-color: #E2EBFA;\n",
       "      box-shadow: 0px 1px 2px rgba(60, 64, 67, 0.3), 0px 1px 3px 1px rgba(60, 64, 67, 0.15);\n",
       "      fill: #174EA6;\n",
       "    }\n",
       "\n",
       "    [theme=dark] .colab-df-convert {\n",
       "      background-color: #3B4455;\n",
       "      fill: #D2E3FC;\n",
       "    }\n",
       "\n",
       "    [theme=dark] .colab-df-convert:hover {\n",
       "      background-color: #434B5C;\n",
       "      box-shadow: 0px 1px 3px 1px rgba(0, 0, 0, 0.15);\n",
       "      filter: drop-shadow(0px 1px 2px rgba(0, 0, 0, 0.3));\n",
       "      fill: #FFFFFF;\n",
       "    }\n",
       "  </style>\n",
       "\n",
       "      <script>\n",
       "        const buttonEl =\n",
       "          document.querySelector('#df-3c2a7208-0740-48af-995b-330b4dab853b button.colab-df-convert');\n",
       "        buttonEl.style.display =\n",
       "          google.colab.kernel.accessAllowed ? 'block' : 'none';\n",
       "\n",
       "        async function convertToInteractive(key) {\n",
       "          const element = document.querySelector('#df-3c2a7208-0740-48af-995b-330b4dab853b');\n",
       "          const dataTable =\n",
       "            await google.colab.kernel.invokeFunction('convertToInteractive',\n",
       "                                                     [key], {});\n",
       "          if (!dataTable) return;\n",
       "\n",
       "          const docLinkHtml = 'Like what you see? Visit the ' +\n",
       "            '<a target=\"_blank\" href=https://colab.research.google.com/notebooks/data_table.ipynb>data table notebook</a>'\n",
       "            + ' to learn more about interactive tables.';\n",
       "          element.innerHTML = '';\n",
       "          dataTable['output_type'] = 'display_data';\n",
       "          await google.colab.output.renderOutput(dataTable, element);\n",
       "          const docLink = document.createElement('div');\n",
       "          docLink.innerHTML = docLinkHtml;\n",
       "          element.appendChild(docLink);\n",
       "        }\n",
       "      </script>\n",
       "    </div>\n",
       "  </div>\n",
       "  "
      ],
      "text/plain": [
       "   PRODUCT_ID  PRODUCT_LENGTH\n",
       "0      604373              13\n",
       "1     1729783              10\n",
       "2     1871949              10\n",
       "3     1107571              10\n",
       "4      624253              13"
      ]
     },
     "execution_count": 32,
     "metadata": {},
     "output_type": "execute_result"
    }
   ],
   "source": [
    "submission_df.head()"
   ]
  },
  {
   "cell_type": "code",
   "execution_count": null,
   "id": "735e5dc7",
   "metadata": {
    "execution": {
     "iopub.execute_input": "2021-07-30T20:12:30.447813Z",
     "iopub.status.busy": "2021-07-30T20:12:30.447297Z",
     "iopub.status.idle": "2021-07-30T20:12:30.635581Z",
     "shell.execute_reply": "2021-07-30T20:12:30.635144Z"
    },
    "id": "735e5dc7",
    "papermill": {
     "duration": 0.217612,
     "end_time": "2021-07-30T20:12:30.635737",
     "exception": false,
     "start_time": "2021-07-30T20:12:30.418125",
     "status": "completed"
    },
    "tags": []
   },
   "outputs": [],
   "source": [
    "submission_df.to_csv('PredictionFile.csv', index=None)"
   ]
  },
  {
   "cell_type": "code",
   "execution_count": null,
   "id": "6d548477",
   "metadata": {
    "id": "6d548477",
    "papermill": {
     "duration": 0.026303,
     "end_time": "2021-07-30T20:12:30.688954",
     "exception": false,
     "start_time": "2021-07-30T20:12:30.662651",
     "status": "completed"
    },
    "tags": []
   },
   "outputs": [],
   "source": []
  }
 ],
 "metadata": {
  "accelerator": "GPU",
  "colab": {
   "provenance": []
  },
  "gpuClass": "standard",
  "kernelspec": {
   "display_name": "Python 3 (ipykernel)",
   "language": "python",
   "name": "python3"
  },
  "language_info": {
   "codemirror_mode": {
    "name": "ipython",
    "version": 3
   },
   "file_extension": ".py",
   "mimetype": "text/x-python",
   "name": "python",
   "nbconvert_exporter": "python",
   "pygments_lexer": "ipython3",
   "version": "3.10.4"
  },
  "papermill": {
   "default_parameters": {},
   "duration": 445.742153,
   "end_time": "2021-07-30T20:12:33.731134",
   "environment_variables": {},
   "exception": null,
   "input_path": "__notebook__.ipynb",
   "output_path": "__notebook__.ipynb",
   "parameters": {},
   "start_time": "2021-07-30T20:05:07.988981",
   "version": "2.3.3"
  },
  "widgets": {
   "application/vnd.jupyter.widget-state+json": {
    "14d9f83738854c26acc357fffe48a77b": {
     "model_module": "@jupyter-widgets/base",
     "model_module_version": "1.2.0",
     "model_name": "LayoutModel",
     "state": {
      "_model_module": "@jupyter-widgets/base",
      "_model_module_version": "1.2.0",
      "_model_name": "LayoutModel",
      "_view_count": null,
      "_view_module": "@jupyter-widgets/base",
      "_view_module_version": "1.2.0",
      "_view_name": "LayoutView",
      "align_content": null,
      "align_items": null,
      "align_self": null,
      "border": null,
      "bottom": null,
      "display": null,
      "flex": null,
      "flex_flow": null,
      "grid_area": null,
      "grid_auto_columns": null,
      "grid_auto_flow": null,
      "grid_auto_rows": null,
      "grid_column": null,
      "grid_gap": null,
      "grid_row": null,
      "grid_template_areas": null,
      "grid_template_columns": null,
      "grid_template_rows": null,
      "height": null,
      "justify_content": null,
      "justify_items": null,
      "left": null,
      "margin": null,
      "max_height": null,
      "max_width": null,
      "min_height": null,
      "min_width": null,
      "object_fit": null,
      "object_position": null,
      "order": null,
      "overflow": null,
      "overflow_x": null,
      "overflow_y": null,
      "padding": null,
      "right": null,
      "top": null,
      "visibility": null,
      "width": null
     }
    },
    "1d25db5ae2d84b96b0431d19be954221": {
     "model_module": "@jupyter-widgets/controls",
     "model_module_version": "1.5.0",
     "model_name": "DescriptionStyleModel",
     "state": {
      "_model_module": "@jupyter-widgets/controls",
      "_model_module_version": "1.5.0",
      "_model_name": "DescriptionStyleModel",
      "_view_count": null,
      "_view_module": "@jupyter-widgets/base",
      "_view_module_version": "1.2.0",
      "_view_name": "StyleView",
      "description_width": ""
     }
    },
    "2fe60518936241fbb8c1503db2a43930": {
     "model_module": "@jupyter-widgets/controls",
     "model_module_version": "1.5.0",
     "model_name": "ProgressStyleModel",
     "state": {
      "_model_module": "@jupyter-widgets/controls",
      "_model_module_version": "1.5.0",
      "_model_name": "ProgressStyleModel",
      "_view_count": null,
      "_view_module": "@jupyter-widgets/base",
      "_view_module_version": "1.2.0",
      "_view_name": "StyleView",
      "bar_color": null,
      "description_width": ""
     }
    },
    "6b4068a312994cf7b8d77d89a864d653": {
     "model_module": "@jupyter-widgets/controls",
     "model_module_version": "1.5.0",
     "model_name": "HBoxModel",
     "state": {
      "_dom_classes": [],
      "_model_module": "@jupyter-widgets/controls",
      "_model_module_version": "1.5.0",
      "_model_name": "HBoxModel",
      "_view_count": null,
      "_view_module": "@jupyter-widgets/controls",
      "_view_module_version": "1.5.0",
      "_view_name": "HBoxView",
      "box_style": "",
      "children": [
       "IPY_MODEL_926a68e976a940c4bdd43b90e46d5a4c",
       "IPY_MODEL_c940c4507d024491b467b54e5a017381",
       "IPY_MODEL_d71e790304374086ac555d1871a56ed8"
      ],
      "layout": "IPY_MODEL_14d9f83738854c26acc357fffe48a77b"
     }
    },
    "73a1c03db1b740faa3abe93f5c72cb79": {
     "model_module": "@jupyter-widgets/base",
     "model_module_version": "1.2.0",
     "model_name": "LayoutModel",
     "state": {
      "_model_module": "@jupyter-widgets/base",
      "_model_module_version": "1.2.0",
      "_model_name": "LayoutModel",
      "_view_count": null,
      "_view_module": "@jupyter-widgets/base",
      "_view_module_version": "1.2.0",
      "_view_name": "LayoutView",
      "align_content": null,
      "align_items": null,
      "align_self": null,
      "border": null,
      "bottom": null,
      "display": null,
      "flex": null,
      "flex_flow": null,
      "grid_area": null,
      "grid_auto_columns": null,
      "grid_auto_flow": null,
      "grid_auto_rows": null,
      "grid_column": null,
      "grid_gap": null,
      "grid_row": null,
      "grid_template_areas": null,
      "grid_template_columns": null,
      "grid_template_rows": null,
      "height": null,
      "justify_content": null,
      "justify_items": null,
      "left": null,
      "margin": null,
      "max_height": null,
      "max_width": null,
      "min_height": null,
      "min_width": null,
      "object_fit": null,
      "object_position": null,
      "order": null,
      "overflow": null,
      "overflow_x": null,
      "overflow_y": null,
      "padding": null,
      "right": null,
      "top": null,
      "visibility": null,
      "width": null
     }
    },
    "8284603230be4792919aa4c7f1c1f857": {
     "model_module": "@jupyter-widgets/base",
     "model_module_version": "1.2.0",
     "model_name": "LayoutModel",
     "state": {
      "_model_module": "@jupyter-widgets/base",
      "_model_module_version": "1.2.0",
      "_model_name": "LayoutModel",
      "_view_count": null,
      "_view_module": "@jupyter-widgets/base",
      "_view_module_version": "1.2.0",
      "_view_name": "LayoutView",
      "align_content": null,
      "align_items": null,
      "align_self": null,
      "border": null,
      "bottom": null,
      "display": null,
      "flex": null,
      "flex_flow": null,
      "grid_area": null,
      "grid_auto_columns": null,
      "grid_auto_flow": null,
      "grid_auto_rows": null,
      "grid_column": null,
      "grid_gap": null,
      "grid_row": null,
      "grid_template_areas": null,
      "grid_template_columns": null,
      "grid_template_rows": null,
      "height": null,
      "justify_content": null,
      "justify_items": null,
      "left": null,
      "margin": null,
      "max_height": null,
      "max_width": null,
      "min_height": null,
      "min_width": null,
      "object_fit": null,
      "object_position": null,
      "order": null,
      "overflow": null,
      "overflow_x": null,
      "overflow_y": null,
      "padding": null,
      "right": null,
      "top": null,
      "visibility": null,
      "width": null
     }
    },
    "926a68e976a940c4bdd43b90e46d5a4c": {
     "model_module": "@jupyter-widgets/controls",
     "model_module_version": "1.5.0",
     "model_name": "HTMLModel",
     "state": {
      "_dom_classes": [],
      "_model_module": "@jupyter-widgets/controls",
      "_model_module_version": "1.5.0",
      "_model_name": "HTMLModel",
      "_view_count": null,
      "_view_module": "@jupyter-widgets/controls",
      "_view_module_version": "1.5.0",
      "_view_name": "HTMLView",
      "description": "",
      "description_tooltip": null,
      "layout": "IPY_MODEL_e8d9b7cd86474d54b5f70fa5ff0b18ad",
      "placeholder": "​",
      "style": "IPY_MODEL_1d25db5ae2d84b96b0431d19be954221",
      "value": "100%"
     }
    },
    "c940c4507d024491b467b54e5a017381": {
     "model_module": "@jupyter-widgets/controls",
     "model_module_version": "1.5.0",
     "model_name": "FloatProgressModel",
     "state": {
      "_dom_classes": [],
      "_model_module": "@jupyter-widgets/controls",
      "_model_module_version": "1.5.0",
      "_model_name": "FloatProgressModel",
      "_view_count": null,
      "_view_module": "@jupyter-widgets/controls",
      "_view_module_version": "1.5.0",
      "_view_name": "ProgressView",
      "bar_style": "success",
      "description": "",
      "description_tooltip": null,
      "layout": "IPY_MODEL_8284603230be4792919aa4c7f1c1f857",
      "max": 73474,
      "min": 0,
      "orientation": "horizontal",
      "style": "IPY_MODEL_2fe60518936241fbb8c1503db2a43930",
      "value": 73474
     }
    },
    "d71e790304374086ac555d1871a56ed8": {
     "model_module": "@jupyter-widgets/controls",
     "model_module_version": "1.5.0",
     "model_name": "HTMLModel",
     "state": {
      "_dom_classes": [],
      "_model_module": "@jupyter-widgets/controls",
      "_model_module_version": "1.5.0",
      "_model_name": "HTMLModel",
      "_view_count": null,
      "_view_module": "@jupyter-widgets/controls",
      "_view_module_version": "1.5.0",
      "_view_name": "HTMLView",
      "description": "",
      "description_tooltip": null,
      "layout": "IPY_MODEL_73a1c03db1b740faa3abe93f5c72cb79",
      "placeholder": "​",
      "style": "IPY_MODEL_f7c26c9218a542fea0a75ac16a7eec30",
      "value": " 73474/73474 [48:50&lt;00:00, 25.80it/s]"
     }
    },
    "e8d9b7cd86474d54b5f70fa5ff0b18ad": {
     "model_module": "@jupyter-widgets/base",
     "model_module_version": "1.2.0",
     "model_name": "LayoutModel",
     "state": {
      "_model_module": "@jupyter-widgets/base",
      "_model_module_version": "1.2.0",
      "_model_name": "LayoutModel",
      "_view_count": null,
      "_view_module": "@jupyter-widgets/base",
      "_view_module_version": "1.2.0",
      "_view_name": "LayoutView",
      "align_content": null,
      "align_items": null,
      "align_self": null,
      "border": null,
      "bottom": null,
      "display": null,
      "flex": null,
      "flex_flow": null,
      "grid_area": null,
      "grid_auto_columns": null,
      "grid_auto_flow": null,
      "grid_auto_rows": null,
      "grid_column": null,
      "grid_gap": null,
      "grid_row": null,
      "grid_template_areas": null,
      "grid_template_columns": null,
      "grid_template_rows": null,
      "height": null,
      "justify_content": null,
      "justify_items": null,
      "left": null,
      "margin": null,
      "max_height": null,
      "max_width": null,
      "min_height": null,
      "min_width": null,
      "object_fit": null,
      "object_position": null,
      "order": null,
      "overflow": null,
      "overflow_x": null,
      "overflow_y": null,
      "padding": null,
      "right": null,
      "top": null,
      "visibility": null,
      "width": null
     }
    },
    "f7c26c9218a542fea0a75ac16a7eec30": {
     "model_module": "@jupyter-widgets/controls",
     "model_module_version": "1.5.0",
     "model_name": "DescriptionStyleModel",
     "state": {
      "_model_module": "@jupyter-widgets/controls",
      "_model_module_version": "1.5.0",
      "_model_name": "DescriptionStyleModel",
      "_view_count": null,
      "_view_module": "@jupyter-widgets/base",
      "_view_module_version": "1.2.0",
      "_view_name": "StyleView",
      "description_width": ""
     }
    }
   }
  }
 },
 "nbformat": 4,
 "nbformat_minor": 5
}
